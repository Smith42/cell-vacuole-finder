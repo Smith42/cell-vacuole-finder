{
 "cells": [
  {
   "cell_type": "code",
   "execution_count": null,
   "metadata": {},
   "outputs": [],
   "source": [
    "import matplotlib\n",
    "matplotlib.use('Agg')\n",
    "import numpy as np\n",
    "from PIL import Image\n",
    "import matplotlib.pyplot as plt\n",
    "from skimage import feature, io, filters, measure, color, exposure, segmentation, morphology\n",
    "from skimage.filters import rank\n",
    "from skimage.morphology import watershed, disk, reconstruction\n",
    "from scipy.misc import toimage\n",
    "from scipy import ndimage as ndi\n",
    "from sklearn.cluster import k_means\n",
    "from itertools import compress\n",
    "import h5py\n",
    "import datetime\n",
    "%matplotlib inline"
   ]
  },
  {
   "cell_type": "markdown",
   "metadata": {},
   "source": [
    "## Functions"
   ]
  },
  {
   "cell_type": "code",
   "execution_count": null,
   "metadata": {
    "collapsed": true
   },
   "outputs": [],
   "source": [
    "def normalise(inData):\n",
    "    \"\"\"\n",
    "    Normalise array.\n",
    "    \"\"\"\n",
    "    inDataAbs = np.fabs(inData)\n",
    "    inDataMax = np.amax(inData)\n",
    "    normalisedData = inDataAbs/inDataMax\n",
    "    return normalisedData\n",
    "\n",
    "def cutArr(A):\n",
    "    \"\"\"\n",
    "    Remove rows and columns of zero from input arr A.\n",
    "    \"\"\"\n",
    "    A = A[:,~np.all(A == 0, axis=0)]\n",
    "    A = A[~np.all(A == 0, axis=1)]\n",
    "    return A\n",
    "    \n",
    "def resizeArray(arr):\n",
    "    \"\"\"\n",
    "    Interpolate array to fit (200,200).\n",
    "    \"\"\"\n",
    "\n",
    "    outArr = np.zeros((200,200))\n",
    "\n",
    "    # Resize the arr\n",
    "    ratio = 200.0/np.amax(arr.shape)\n",
    "\n",
    "    arr = ndi.interpolation.zoom(arr, (ratio))\n",
    "    outArr[:arr.shape[0],:arr.shape[1]] = arr\n",
    "    return normalise(outArr)\n",
    "\n",
    "def genExample(cell):\n",
    "    cell = cutArr(cell)\n",
    "    \n",
    "    vacuoles, mpeaks = getVacuholes(cell)\n",
    "    vacuoleLabels = measure.label(mpeaks)\n",
    "        \n",
    "    return cell, np.ma.masked_array(cell, mpeaks), \\\n",
    "      vacuoleLabels\n",
    "\n",
    "def getVacuholes(cell):\n",
    "    \"\"\"\n",
    "    Get vacuoles using skimage.morphology.reconstruction()\n",
    "    \"\"\"\n",
    "    seed = np.copy(cell)\n",
    "    seed[1:-1, 1:-1] = cell.max()\n",
    "    mask = cell\n",
    "\n",
    "    filled = reconstruction(seed, mask, method='erosion')\n",
    "\n",
    "    thresh = filters.threshold_mean(filled-cell)\n",
    "    mask = (filled-cell) >= thresh\n",
    "    mask = morphology.remove_small_objects(mask, 100)\n",
    "    labeled = measure.label(mask)\n",
    "\n",
    "    vacuoles = ndi.find_objects(labeled)\n",
    "    \n",
    "    return np.array(filter(None,vacuoles)), mask"
   ]
  },
  {
   "cell_type": "markdown",
   "metadata": {},
   "source": [
    "## Find cell locations\n",
    "\n",
    "The redimg, greenimg, blueimg, uvimg are the filters used in the InCell Analyser 6000. The DAPI and Cy5 channels have been used in the cell/vacuole finding algorithm, and the remaining channels (+ Cy5) have been used to display the results in colour. The DAPI channel uses Hoechst 33342 staining to identify nuclei, and the cell plasma is identified by cell mask staining in the Cy5 channel, with holes in the plasma shown as black spots.\n",
    "\n",
    "Cells are found using a watershedding method, with nuclei used as initial markers."
   ]
  },
  {
   "cell_type": "code",
   "execution_count": null,
   "metadata": {
    "collapsed": true
   },
   "outputs": [],
   "source": [
    "redimg = \"./data/H - 11(fld 07 wv Red - Cy5).tif\"\n",
    "greenimg = \"./data/H - 11(fld 07 wv Green - dsRed).tif\"\n",
    "blueimg = \"./data/H - 11(fld 07 wv Blue - FITC).tif\"\n",
    "uvimg = \"./data/H - 11(fld 07 wv UV - DAPI).tif\""
   ]
  },
  {
   "cell_type": "code",
   "execution_count": null,
   "metadata": {
    "scrolled": true
   },
   "outputs": [],
   "source": [
    "print(\"Markers from\", uvimg, \"Cells from\", redimg)\n",
    "\n",
    "imUV = io.imread(uvimg)\n",
    "thresh = filters.threshold_li(imUV)\n",
    "mask = imUV <= thresh\n",
    "labeled = measure.label(mask, background=1)\n",
    "markers = rank.median(labeled, disk(25))\n",
    "\n",
    "imBW = io.imread(redimg)\n",
    "p0, p1 = np.percentile(imBW, (10, 70)) # These parameters can also be changed\n",
    "imBWrescaled = exposure.rescale_intensity(imBW, in_range=(p0, p1))\n",
    "thresh = filters.threshold_li(imBWrescaled)\n",
    "mask = imBWrescaled <= thresh\n",
    "gradient = rank.gradient(mask==0, disk(2))\n",
    "\n",
    "labeled = segmentation.watershed(gradient, markers)\n",
    "labeled = segmentation.clear_border(labeled) # Get rid of border cells\n",
    "\n",
    "cells = filter(None, ndi.find_objects(labeled))\n",
    "\n",
    "cellImages = np.zeros((1,200,200))\n",
    "cellImagesRAW = []\n",
    "print(\"Cells found:\", len(cells))\n",
    "if len(cells) != 0:\n",
    "    for i in np.arange(len(cells)):\n",
    "        # Append cells to master list\n",
    "        cellImagesRAW.append(imBW[cells[i]])\n",
    "        cellImages = np.append(cellImages, resizeArray(imBW[cells[i]])[np.newaxis,...], axis=0)\n",
    "cellImages = cellImages[1:]"
   ]
  },
  {
   "cell_type": "code",
   "execution_count": null,
   "metadata": {
    "collapsed": true
   },
   "outputs": [],
   "source": [
    "# This sometimes works, sometimes doesn't, depending on whether the cellfinder picks up duds or not\n",
    "# It doesn't seem to like the watershed algorithm and doesn't work with it.\n",
    "\n",
    "#X_kmeans = k_means(np.reshape(cellImages,[-1,200*200]), 2, n_init=50) ## This looks like it works!!\n",
    "#unique, counts = np.unique(X_kmeans[1], return_counts=True)\n",
    "#print(dict(zip(unique, counts)))\n",
    "#blueCells = np.argmax(counts) # This is where the hole cells are likely to be\n",
    "#yellowCells = np.argmin(counts) # This is where the non-hole cells / noise are likely to be\n",
    "#blueMask = X_kmeans[1] == blueCells\n",
    "#yellowMask = X_kmeans[1] == yellowCells\n",
    "#blueMask = np.ones(cellImages.shape[0])== 1"
   ]
  },
  {
   "cell_type": "code",
   "execution_count": null,
   "metadata": {},
   "outputs": [],
   "source": [
    "fig, ax = plt.subplots(nrows=6, ncols=6, figsize=(12,12))\n",
    "j = 0\n",
    "for i in ax.ravel():\n",
    "    i.imshow(cutArr(cellImagesRAW[j]))\n",
    "    j = j+1\n",
    "    i.axis(\"off\")"
   ]
  },
  {
   "cell_type": "markdown",
   "metadata": {},
   "source": [
    "## Find vacuole locations\n",
    "\n",
    "Once the cells are isolated from the larger images, the vacuoles in each cell are found by using skimage.morphology.reconstruction(), which finds the pits of an image. The pits are then cleaned by removing small vacuoles/noise, and removing the background of the cell image."
   ]
  },
  {
   "cell_type": "code",
   "execution_count": null,
   "metadata": {
    "collapsed": true,
    "scrolled": false
   },
   "outputs": [],
   "source": [
    "vacuoleArr = []\n",
    "maskArr = []\n",
    "for cell in cellImagesRAW:\n",
    "    ind, mask = getVacuholes(cell)\n",
    "    vacuoleArr.append(ind)\n",
    "    maskArr.append(mask)"
   ]
  },
  {
   "cell_type": "code",
   "execution_count": null,
   "metadata": {
    "collapsed": true
   },
   "outputs": [],
   "source": [
    "dt = str(datetime.datetime.now().replace(second=0, microsecond=0).isoformat(\"_\"))\n",
    "\n",
    "fig, ax = plt.subplots(ncols=4,nrows=36,figsize=(15,80))\n",
    "for j in ax.ravel():\n",
    "    j.axis(\"off\")\n",
    "ax[0,0].set_title(\"Original cell\")  \n",
    "ax[0,1].set_title(\"Vacuoles removed\")\n",
    "ax[0,2].set_title(\"Labelled vacuoles\")\n",
    "#plt.tight_layout()\n",
    "\n",
    "for i in np.arange(36):\n",
    "    a,b,c = genExample(cellImagesRAW[i])\n",
    "    \n",
    "    ax[i,0].imshow(a)\n",
    "    ax[i,1].imshow(b)\n",
    "    ax[i,2].imshow(c)\n",
    "    ax[i,3].imshow(a)\n",
    "    vacs = ndi.label(c)\n",
    "    for j in np.arange(len(vacuoleArr[i])):\n",
    "        avgvx = int(np.mean((vacuoleArr[i][j,0].start,vacuoleArr[i][j,0].stop)))\n",
    "        avgvy = int(np.mean((vacuoleArr[i][j,1].start,vacuoleArr[i][j,1].stop)))\n",
    "        ax[i,3].scatter(avgvy,avgvx,s=10,marker='.',c=\"white\")   "
   ]
  },
  {
   "cell_type": "markdown",
   "metadata": {},
   "source": [
    "## Get an example image with vacuole locations and cells highlighted\n",
    "\n",
    "Generate an example of where the found cells and corresponding vacuoles are. The cells are labelled 1..n, and the vacuoles are labeled with small white dots. Both the cells and vacuoles are projected onto an RGB image of the slide. A log file containing the cell number, position, size, and number of vacuoles of each cell is outputted. Another log file containing the cell number, position, and size of each vacuole is also outputted."
   ]
  },
  {
   "cell_type": "code",
   "execution_count": null,
   "metadata": {
    "collapsed": true
   },
   "outputs": [],
   "source": [
    "dt = str(datetime.datetime.now().replace(second=0, microsecond=0).isoformat(\"_\"))\n",
    "\n",
    "fig, ax = plt.subplots(ncols=1,nrows=1,figsize=(15,15))\n",
    "cells = np.array(cells)\n",
    "r = io.imread(redimg)\n",
    "g = io.imread(greenimg)\n",
    "b = io.imread(blueimg)\n",
    "\n",
    "arr = np.dstack([r, g, b])\n",
    "img = toimage(arr)\n",
    "imBright = img.point(lambda p: p * 3) # Make each pixel brighter\n",
    "plt.imshow(imBright)\n",
    "\n",
    "plt.title(\"Vacuole finder output \"+dt+\"\\n\"+redimg)\n",
    "#ax.axis(\"off\")\n",
    "\n",
    "cellData = []\n",
    "vacData = []\n",
    "\n",
    "for i in np.arange(np.shape(cells)[0]):      \n",
    "    avgx = int(np.mean((cells[i,1].start,cells[i,1].stop)))\n",
    "    xst = cells[i,1].start\n",
    "    avgy = int(np.mean((cells[i,0].start,cells[i,0].stop)))\n",
    "    yst = cells[i,0].start\n",
    "    cellSize = abs((cells[i,0].stop-cells[i,0].start)*(cells[i,1].stop-cells[i,1].start))\n",
    "    noVacs = len(vacuoleArr[i])\n",
    "    cellData.append([i,int(avgx),int(avgy),int(cellSize),noVacs])\n",
    "    \n",
    "    for j in np.arange(len(vacuoleArr[i])):\n",
    "        avgvx = int(np.mean((vacuoleArr[i][j,1].start,vacuoleArr[i][j,1].stop)))\n",
    "        avgvy = int(np.mean((vacuoleArr[i][j,0].start,vacuoleArr[i][j,0].stop)))\n",
    "        vacSize = abs((vacuoleArr[i][j,0].stop-vacuoleArr[i][j,0].start)*(vacuoleArr[i][j,1].stop-vacuoleArr[i][j,1].start))\n",
    "        vacData.append([i,int(xst+avgvx),int(yst+avgvy),int(vacSize)])\n",
    "        plt.scatter(xst+avgvx,yst+avgvy,s=10,marker='.',c=\"white\")\n",
    "        \n",
    "    plt.annotate(str(i),xy=(avgx,avgy),color=\"white\")\n",
    "\n",
    "np.savetxt(\"./logs/\"+dt+\"_cellData.csv\", cellData, fmt=\"%i\", delimiter=\",\", header=redimg+\"\\ncellNo,xcoord,ycoord,size,noVacuoles\")\n",
    "np.savetxt(\"./logs/\"+dt+\"_vacuoleData.csv\", vacData, fmt=\"%i\", delimiter=\",\", header=redimg+\"\\ncellNo,xcoord,ycoord,size\")\n",
    "plt.savefig(\"./figures/output/\"+dt+\"_outputExampleRGB.png\")"
   ]
  }
 ],
 "metadata": {
  "kernelspec": {
   "display_name": "Python 3",
   "language": "python",
   "name": "python3"
  },
  "language_info": {
   "codemirror_mode": {
    "name": "ipython",
    "version": 2
   },
   "file_extension": ".py",
   "mimetype": "text/x-python",
   "name": "python",
   "nbconvert_exporter": "python",
   "pygments_lexer": "ipython2",
   "version": "2.7.13"
  }
 },
 "nbformat": 4,
 "nbformat_minor": 2
}
