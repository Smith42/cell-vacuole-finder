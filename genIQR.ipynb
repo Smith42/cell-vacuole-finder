{
 "cells": [
  {
   "cell_type": "markdown",
   "metadata": {},
   "source": [
    "## Generate the interquartile range for a large sample of cell sizes.\n",
    "\n",
    "Cells outside this range can then be labelled as outliers.\n",
    "\n",
    "To correctly label small cells as outliers we need to use the log10 of all the cell sizes to find the IQR.\n",
    "I have set the upper and lower interquartile percentiles to 35 and 85 because the smaller cells are more likely to be outliers."
   ]
  },
  {
   "cell_type": "code",
   "execution_count": null,
   "metadata": {
    "collapsed": true
   },
   "outputs": [],
   "source": [
    "import numpy as np\n",
    "import matplotlib.pyplot as plt\n",
    "from scipy.stats import gaussian_kde\n",
    "%matplotlib inline"
   ]
  },
  {
   "cell_type": "code",
   "execution_count": null,
   "metadata": {
    "collapsed": true
   },
   "outputs": [],
   "source": [
    "def getIQR(inData):\n",
    "    \"\"\"\n",
    "    Get the interquartile range for a 1D input data set inData.\n",
    "    Return a the lower and upper bounds.\n",
    "    \"\"\"\n",
    "    quart1, quart3 = np.percentile(inData, [35, 85])\n",
    "    IQR = quart3 - quart1\n",
    "    lowerBound = quart1 - (IQR * 1.5)\n",
    "    upperBound = quart3 + (IQR * 1.5)\n",
    "    return lowerBound, upperBound"
   ]
  },
  {
   "cell_type": "code",
   "execution_count": null,
   "metadata": {},
   "outputs": [],
   "source": [
    "# Import large dataset of cell information\n",
    "cellData = np.genfromtxt(\"./logs/vstackedCellData.csv\", delimiter=\",\", dtype=int)\n",
    "# Get the log10 of sizes\n",
    "cellsLogged = np.log10(cellData[:,2])\n",
    "loBound, hiBound = getIQR(cellsLogged)\n",
    "mask = (cellsLogged < loBound) | (cellsLogged > hiBound)\n",
    "\n",
    "print(\"Low, high thresholds of IQR:\", int(10**loBound), int(10**hiBound))\n",
    "print(\"Number of outliers, inliers:\", cellLogged[mask].shape[0], cellLogged[~mask].shape[0])"
   ]
  },
  {
   "cell_type": "code",
   "execution_count": null,
   "metadata": {
    "scrolled": false
   },
   "outputs": [],
   "source": [
    "fig, ax = plt.subplots(1,2, figsize=(12,6), sharex=True)\n",
    "\n",
    "# Get heatmap scatter plot data\n",
    "x = cellsLogged \n",
    "y = cellData[:,3]\n",
    "xy = np.vstack([x,y])\n",
    "z = gaussian_kde(xy)(xy)\n",
    "idx = z.argsort()\n",
    "x, y, z = x[idx], y[idx], z[idx]\n",
    "\n",
    "ax[0].scatter(x, y, c=z, s=10, edgecolor='')\n",
    "ax[0].axvline(x=loBound, ls=\":\", c=\"r\")\n",
    "ax[0].axvline(x=hiBound, ls=\":\", c=\"r\")\n",
    "\n",
    "ax[0].set_ylabel(\"Detected vacuoles\")\n",
    "#ax[0].set_xlabel(r\"Size of cell ($log_{10}(pixels^2)$)\")\n",
    "ax[0].set_title(\"Density heatmap visualisation of cell data\")\n",
    "ax[0].set_xlabel(r\"Size of cell ($log_{10}(pixels^2)$)\")\n",
    "\n",
    "ax[1].set_title(\"Histogram of logarithmic cell sizes\")\n",
    "ax[1].hist(cellsLogged[mask], bins=200, label=\"Outliers\")\n",
    "ax[1].hist(cellsLogged[~mask], bins=50, label=\"Inliers\", color=\"r\")\n",
    "ax[1].legend(loc=2)\n",
    "ax[1].set_ylabel(\"Population\")\n",
    "ax[1].set_xlabel(r\"Size of cell ($log_{10}(pixels^2)$)\")\n",
    "ax[1].axvline(x=loBound, ls=\":\", c=\"r\")\n",
    "ax[1].axvline(x=hiBound, ls=\":\", c=\"r\")\n",
    "#ax[1].set_title(\"Histogram of cell sizes\")\n",
    "plt.tight_layout()\n",
    "plt.savefig(\"./figures/interquartRangeLS.pdf\")"
   ]
  },
  {
   "cell_type": "code",
   "execution_count": null,
   "metadata": {
    "collapsed": true
   },
   "outputs": [],
   "source": []
  }
 ],
 "metadata": {
  "kernelspec": {
   "display_name": "Python 3",
   "language": "python",
   "name": "python3"
  },
  "language_info": {
   "codemirror_mode": {
    "name": "ipython",
    "version": 2
   },
   "file_extension": ".py",
   "mimetype": "text/x-python",
   "name": "python",
   "nbconvert_exporter": "python",
   "pygments_lexer": "ipython2",
   "version": "2.7.13"
  }
 },
 "nbformat": 4,
 "nbformat_minor": 2
}
